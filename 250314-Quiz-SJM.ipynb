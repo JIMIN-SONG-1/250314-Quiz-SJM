{
 "cells": [
  {
   "cell_type": "code",
   "execution_count": 4,
   "id": "031a0f5c-fe9d-465d-a6dc-3d545ccf67b0",
   "metadata": {},
   "outputs": [],
   "source": [
    "import numpy as np"
   ]
  },
  {
   "cell_type": "code",
   "execution_count": 65,
   "id": "1d492e76-64b0-4032-8ea0-60096ce25f03",
   "metadata": {},
   "outputs": [],
   "source": [
    "import pandas as pd"
   ]
  },
  {
   "cell_type": "code",
   "execution_count": 67,
   "id": "84c18a6f-0413-4e84-a59c-0b403fea81ce",
   "metadata": {},
   "outputs": [
    {
     "data": {
      "text/plain": [
       "array([1, 2, 3, 4, 5, 6])"
      ]
     },
     "execution_count": 67,
     "metadata": {},
     "output_type": "execute_result"
    }
   ],
   "source": [
    "#리스트를 `x`를 numpy 배열로 `array1`에 저장합니다.\n",
    "# 리스트 선언\n",
    "x = [1, 2, 3, 4, 5, 6]\n",
    "\n",
    "# numpy 배열로 변환\n",
    "array1 = np.array(x)\n",
    "\n",
    "# 결과 출력\n",
    "array1"
   ]
  },
  {
   "cell_type": "code",
   "execution_count": 69,
   "id": "f955e458-df6d-410e-8602-be4a9414e071",
   "metadata": {},
   "outputs": [
    {
     "data": {
      "text/plain": [
       "array([[0., 0., 0.],\n",
       "       [0., 0., 0.],\n",
       "       [0., 0., 0.]])"
      ]
     },
     "execution_count": 69,
     "metadata": {},
     "output_type": "execute_result"
    }
   ],
   "source": [
    "# 모든 원소가 0인 3×3의 배열을 `array2`에 저장합니다.\n",
    "array2 = np.zeros((3, 3))\n",
    "array2"
   ]
  },
  {
   "cell_type": "code",
   "execution_count": 71,
   "id": "d7a1af32-c162-4a82-bce2-23ed3da9c5e1",
   "metadata": {},
   "outputs": [
    {
     "data": {
      "text/plain": [
       "array([[1., 1., 1., 1., 1.],\n",
       "       [1., 1., 1., 1., 1.]])"
      ]
     },
     "execution_count": 71,
     "metadata": {},
     "output_type": "execute_result"
    }
   ],
   "source": [
    "# 모든 원소가 1인 2×5의 배열을 `array3`에 저장합니다.\n",
    "array3 = np.ones((2, 5))\n",
    "array3"
   ]
  },
  {
   "cell_type": "code",
   "execution_count": 73,
   "id": "53ecbb95-0fcb-4e4f-ba90-3eccd27036a7",
   "metadata": {},
   "outputs": [
    {
     "data": {
      "text/plain": [
       "array([[0.39954138, 0.24666089, 0.45226855],\n",
       "       [0.09501563, 0.54411735, 0.20415738],\n",
       "       [0.92499018, 0.04982187, 0.87642293],\n",
       "       [0.09982438, 0.77511921, 0.47983081],\n",
       "       [0.2432929 , 0.02406387, 0.42364641]])"
      ]
     },
     "execution_count": 73,
     "metadata": {},
     "output_type": "execute_result"
    }
   ],
   "source": [
    "# 0 이상 1 미만의 랜덤 값을 갖는 5×3의 배열을`array4`에 저장합니다.\n",
    "array4 = np.random.random((5, 3))\n",
    "array4"
   ]
  },
  {
   "cell_type": "code",
   "execution_count": 75,
   "id": "3774f619-ff75-469b-9d6f-f874730fb802",
   "metadata": {},
   "outputs": [
    {
     "data": {
      "text/plain": [
       "array([0, 1, 2, 3, 4, 5, 6, 7, 8, 9])"
      ]
     },
     "execution_count": 75,
     "metadata": {},
     "output_type": "execute_result"
    }
   ],
   "source": [
    "# 0부터 9까지의 값을 원소로 하는 1×10 배열을`array5`에 저장합니다.\n",
    "\n",
    "array5 = np.arange(0, 10, 1)  \n",
    "array5"
   ]
  },
  {
   "cell_type": "code",
   "execution_count": 77,
   "id": "2592abd8-271e-4425-a1dd-da8020d86df5",
   "metadata": {},
   "outputs": [
    {
     "data": {
      "text/plain": [
       "array([ 3,  9, 15])"
      ]
     },
     "execution_count": 77,
     "metadata": {},
     "output_type": "execute_result"
    }
   ],
   "source": [
    "# `array1`의 첫 번째 column 벡터와 두 번째 column 벡터를 더한 결과를 `array2`에 저장해봅시다.\n",
    "array1 = np.array([[1, 2, 3], \n",
    "                   [4, 5, 6], \n",
    "                   [7, 8, 9]]) \n",
    "\n",
    "array2 = array1[:, 0] + array1[:, 1]\n",
    "\n",
    "array2"
   ]
  },
  {
   "cell_type": "code",
   "execution_count": 79,
   "id": "fc2b0e3d-5e47-461c-bf6d-a6ea3c42a971",
   "metadata": {},
   "outputs": [
    {
     "data": {
      "text/plain": [
       "array([-3, -3, -3])"
      ]
     },
     "execution_count": 79,
     "metadata": {},
     "output_type": "execute_result"
    }
   ],
   "source": [
    "# `array1`의 첫 번째 row 벡터와 두 번째 row 벡터를 뺀 결과를 `array3`에 저장해봅시다.\n",
    "\n",
    "array3 = array1[0, :] - array1[1, :]\n",
    "array3"
   ]
  },
  {
   "cell_type": "code",
   "execution_count": 81,
   "id": "92bf5548-54db-417e-a06d-372b170678ed",
   "metadata": {},
   "outputs": [
    {
     "data": {
      "text/plain": [
       "array([ -9, -27, -45])"
      ]
     },
     "execution_count": 81,
     "metadata": {},
     "output_type": "execute_result"
    }
   ],
   "source": [
    "# `array2`과 `array3`을 곱한 결과를 `array4`에 저장해봅시다.\n",
    "\n",
    "array4 = array2 * array3 \n",
    "array4"
   ]
  },
  {
   "cell_type": "code",
   "execution_count": 83,
   "id": "407b8685-e11f-46da-be58-a74fc5c7656e",
   "metadata": {},
   "outputs": [
    {
     "data": {
      "text/plain": [
       "array([[  3,  -3,  -9],\n",
       "       [  9,  -3, -27],\n",
       "       [ 15,  -3, -45]])"
      ]
     },
     "execution_count": 83,
     "metadata": {},
     "output_type": "execute_result"
    }
   ],
   "source": [
    "# `array5`는 `array2`, `array3`, `array4` 값을 column으로 이어 붙인 배열입니다.\n",
    "\n",
    "array5 = array5 = np.column_stack((array2, array3, array4))\n",
    "array5"
   ]
  },
  {
   "cell_type": "code",
   "execution_count": 85,
   "id": "6067cadf-e097-4f18-b185-d17da5d090f6",
   "metadata": {},
   "outputs": [
    {
     "data": {
      "text/plain": [
       "array([[ 0.33333333, -0.66666667, -0.33333333],\n",
       "       [ 0.44444444, -1.66666667, -0.22222222],\n",
       "       [ 0.46666667, -2.66666667, -0.2       ]])"
      ]
     },
     "execution_count": 85,
     "metadata": {},
     "output_type": "execute_result"
    }
   ],
   "source": [
    "# `array1`을 `array5`로 나눈 결과를 `array6`에 저장해봅시다.\n",
    "array6 = array1/array5\n",
    "array6"
   ]
  },
  {
   "cell_type": "code",
   "execution_count": null,
   "id": "e1e65fa1-cc34-40d6-bcc7-e22fb9f69baa",
   "metadata": {},
   "outputs": [],
   "source": []
  },
  {
   "cell_type": "code",
   "execution_count": 91,
   "id": "7434da1d-10f6-4979-86d1-8573f0076b34",
   "metadata": {},
   "outputs": [
    {
     "data": {
      "text/plain": [
       "0     1\n",
       "1     2\n",
       "2     3\n",
       "3     4\n",
       "4     5\n",
       "5     6\n",
       "6     7\n",
       "7     8\n",
       "8     9\n",
       "9    10\n",
       "Name: age, dtype: int64"
      ]
     },
     "execution_count": 91,
     "metadata": {},
     "output_type": "execute_result"
    }
   ],
   "source": [
    "# 1차원 데이터를 선언하여 ***Series*** 자료형 데이터를 생성하고, 생성한 Series의 name은 `age`로 설정하세요.\n",
    "x = [1, 2, 3, 4, 5, 6, 7, 8, 9, 10]\n",
    "age_series = pd.Series(x, name='age')\n",
    "age_series"
   ]
  },
  {
   "cell_type": "code",
   "execution_count": 93,
   "id": "b007c34d-e557-4edd-ba19-44e9d0277ef5",
   "metadata": {},
   "outputs": [
    {
     "data": {
      "text/plain": [
       "국어       Korean\n",
       "수학         Math\n",
       "영어      English\n",
       "물리      Physics\n",
       "화학    Chemistry\n",
       "dtype: object"
      ]
     },
     "execution_count": 93,
     "metadata": {},
     "output_type": "execute_result"
    }
   ],
   "source": [
    "# Dictionary 데이터 `class_name`을 ***Series 형*** 데이터로 생성하여 변수 `class_series` 에 저장하세요.\n",
    "class_name = {'국어' : 'Korean', '수학' : 'Math', '영어' : 'English', '물리' : 'Physics', '화학' : 'Chemistry'}\n",
    "class_series = pd.Series(class_name)\n",
    "\n",
    "class_series"
   ]
  },
  {
   "cell_type": "code",
   "execution_count": 99,
   "id": "6e04cfce-b4f4-42b7-bfd1-3fc5fbac1c42",
   "metadata": {},
   "outputs": [
    {
     "name": "stdout",
     "output_type": "stream",
     "text": [
      "   Column1  Column2\n",
      "0       10       20\n",
      "1       30       40\n",
      "2       40       50\n"
     ]
    }
   ],
   "source": [
    "# 2차원 리스트를 전달하여 ***DataFrame*** 자료형 데이터를 생성하고, 생성한 DataFrame 데이터를 변수 `df` 에 저장하세요.\n",
    "a = [[10, 20], [30, 40], [40, 50]]\n",
    "df = pd.DataFrame(a, columns=[\"Column1\", \"Column2\"])\n",
    "\n",
    "print(df)"
   ]
  },
  {
   "cell_type": "code",
   "execution_count": null,
   "id": "5ccd56ce-e445-4da2-99ad-a0a5f2494c26",
   "metadata": {},
   "outputs": [],
   "source": []
  },
  {
   "cell_type": "code",
   "execution_count": 105,
   "id": "55a50935-ca3b-4fef-87a6-5d467eba3587",
   "metadata": {},
   "outputs": [
    {
     "data": {
      "text/html": [
       "<div>\n",
       "<style scoped>\n",
       "    .dataframe tbody tr th:only-of-type {\n",
       "        vertical-align: middle;\n",
       "    }\n",
       "\n",
       "    .dataframe tbody tr th {\n",
       "        vertical-align: top;\n",
       "    }\n",
       "\n",
       "    .dataframe thead th {\n",
       "        text-align: right;\n",
       "    }\n",
       "</style>\n",
       "<table border=\"1\" class=\"dataframe\">\n",
       "  <thead>\n",
       "    <tr style=\"text-align: right;\">\n",
       "      <th></th>\n",
       "      <th>0</th>\n",
       "      <th>1</th>\n",
       "      <th>2</th>\n",
       "      <th>3</th>\n",
       "      <th>4</th>\n",
       "    </tr>\n",
       "  </thead>\n",
       "  <tbody>\n",
       "    <tr>\n",
       "      <th>age</th>\n",
       "      <td>20.0</td>\n",
       "      <td>15.0</td>\n",
       "      <td>30.0</td>\n",
       "      <td>25.0</td>\n",
       "      <td>35.0</td>\n",
       "    </tr>\n",
       "    <tr>\n",
       "      <th>weight</th>\n",
       "      <td>68.5</td>\n",
       "      <td>60.3</td>\n",
       "      <td>53.4</td>\n",
       "      <td>74.1</td>\n",
       "      <td>80.7</td>\n",
       "    </tr>\n",
       "    <tr>\n",
       "      <th>height</th>\n",
       "      <td>180.0</td>\n",
       "      <td>165.0</td>\n",
       "      <td>155.0</td>\n",
       "      <td>178.0</td>\n",
       "      <td>185.0</td>\n",
       "    </tr>\n",
       "  </tbody>\n",
       "</table>\n",
       "</div>"
      ],
      "text/plain": [
       "            0      1      2      3      4\n",
       "age      20.0   15.0   30.0   25.0   35.0\n",
       "weight   68.5   60.3   53.4   74.1   80.7\n",
       "height  180.0  165.0  155.0  178.0  185.0"
      ]
     },
     "execution_count": 105,
     "metadata": {},
     "output_type": "execute_result"
    }
   ],
   "source": [
    "# 아래와 같이 DataFrame 변수인 `human`을 만들어보세요. (`pd.DataFrame()`을 활용하세요.)\n",
    "\n",
    "age = [20, 15, 30, 25, 35]\n",
    "weight = [68.5, 60.3, 53.4, 74.1, 80.7]\n",
    "height = [180, 165, 155, 178, 185]\n",
    "human = pd.DataFrame([age, weight, height], index=[\"age\", \"weight\", \"height\"])\n",
    "\n",
    "human"
   ]
  },
  {
   "cell_type": "code",
   "execution_count": 111,
   "id": "cda2be21-2998-4f13-9645-83ea6833af1d",
   "metadata": {},
   "outputs": [
    {
     "data": {
      "text/plain": [
       "0    20.0\n",
       "1    15.0\n",
       "2    30.0\n",
       "3    25.0\n",
       "4    35.0\n",
       "Name: age, dtype: float64"
      ]
     },
     "execution_count": 111,
     "metadata": {},
     "output_type": "execute_result"
    }
   ],
   "source": [
    "# `loc()` ,`iloc()`을 이용해 `age`를 추출해보세요.\n",
    "\n",
    "age_loc = human.loc[\"age\"]\n",
    "age_iloc = human.iloc[0]\n",
    "\n",
    "age_loc\n",
    "age_iloc"
   ]
  },
  {
   "cell_type": "code",
   "execution_count": 113,
   "id": "fdfae5cc-336b-4690-9507-6154ce39334a",
   "metadata": {},
   "outputs": [
    {
     "data": {
      "text/html": [
       "<div>\n",
       "<style scoped>\n",
       "    .dataframe tbody tr th:only-of-type {\n",
       "        vertical-align: middle;\n",
       "    }\n",
       "\n",
       "    .dataframe tbody tr th {\n",
       "        vertical-align: top;\n",
       "    }\n",
       "\n",
       "    .dataframe thead th {\n",
       "        text-align: right;\n",
       "    }\n",
       "</style>\n",
       "<table border=\"1\" class=\"dataframe\">\n",
       "  <thead>\n",
       "    <tr style=\"text-align: right;\">\n",
       "      <th></th>\n",
       "      <th>0</th>\n",
       "      <th>1</th>\n",
       "      <th>2</th>\n",
       "      <th>3</th>\n",
       "      <th>4</th>\n",
       "    </tr>\n",
       "  </thead>\n",
       "  <tbody>\n",
       "    <tr>\n",
       "      <th>weight</th>\n",
       "      <td>68.5</td>\n",
       "      <td>60.3</td>\n",
       "      <td>53.4</td>\n",
       "      <td>74.1</td>\n",
       "      <td>80.7</td>\n",
       "    </tr>\n",
       "    <tr>\n",
       "      <th>height</th>\n",
       "      <td>180.0</td>\n",
       "      <td>165.0</td>\n",
       "      <td>155.0</td>\n",
       "      <td>178.0</td>\n",
       "      <td>185.0</td>\n",
       "    </tr>\n",
       "  </tbody>\n",
       "</table>\n",
       "</div>"
      ],
      "text/plain": [
       "            0      1      2      3      4\n",
       "weight   68.5   60.3   53.4   74.1   80.7\n",
       "height  180.0  165.0  155.0  178.0  185.0"
      ]
     },
     "execution_count": 113,
     "metadata": {},
     "output_type": "execute_result"
    }
   ],
   "source": [
    "# `loc() `, `iloc()`을 이용해 `weight`와 `height`만 추출해보세요.\n",
    "\n",
    "wh_loc = human.loc[[\"weight\", \"height\"]]\n",
    "wh_iloc = human.iloc[1:3]\n",
    "\n",
    "wh_loc\n",
    "wh_iloc"
   ]
  },
  {
   "cell_type": "code",
   "execution_count": 117,
   "id": "2e9feb19-38cc-43a1-ae9b-e626bcd6d08c",
   "metadata": {},
   "outputs": [
    {
     "data": {
      "text/html": [
       "<div>\n",
       "<style scoped>\n",
       "    .dataframe tbody tr th:only-of-type {\n",
       "        vertical-align: middle;\n",
       "    }\n",
       "\n",
       "    .dataframe tbody tr th {\n",
       "        vertical-align: top;\n",
       "    }\n",
       "\n",
       "    .dataframe thead th {\n",
       "        text-align: right;\n",
       "    }\n",
       "</style>\n",
       "<table border=\"1\" class=\"dataframe\">\n",
       "  <thead>\n",
       "    <tr style=\"text-align: right;\">\n",
       "      <th></th>\n",
       "      <th>0</th>\n",
       "      <th>1</th>\n",
       "      <th>2</th>\n",
       "      <th>3</th>\n",
       "      <th>4</th>\n",
       "    </tr>\n",
       "  </thead>\n",
       "  <tbody>\n",
       "    <tr>\n",
       "      <th>age</th>\n",
       "      <td>20.0</td>\n",
       "      <td>15.0</td>\n",
       "      <td>30.0</td>\n",
       "      <td>25.0</td>\n",
       "      <td>35.0</td>\n",
       "    </tr>\n",
       "    <tr>\n",
       "      <th>weight</th>\n",
       "      <td>68.5</td>\n",
       "      <td>60.3</td>\n",
       "      <td>53.4</td>\n",
       "      <td>74.1</td>\n",
       "      <td>80.7</td>\n",
       "    </tr>\n",
       "    <tr>\n",
       "      <th>height</th>\n",
       "      <td>180.0</td>\n",
       "      <td>165.0</td>\n",
       "      <td>155.0</td>\n",
       "      <td>178.0</td>\n",
       "      <td>185.0</td>\n",
       "    </tr>\n",
       "    <tr>\n",
       "      <th>sex</th>\n",
       "      <td>Female</td>\n",
       "      <td>Male</td>\n",
       "      <td>Female</td>\n",
       "      <td>Female</td>\n",
       "      <td>Male</td>\n",
       "    </tr>\n",
       "  </tbody>\n",
       "</table>\n",
       "</div>"
      ],
      "text/plain": [
       "             0      1       2       3      4\n",
       "age       20.0   15.0    30.0    25.0   35.0\n",
       "weight    68.5   60.3    53.4    74.1   80.7\n",
       "height   180.0  165.0   155.0   178.0  185.0\n",
       "sex     Female   Male  Female  Female   Male"
      ]
     },
     "execution_count": 117,
     "metadata": {},
     "output_type": "execute_result"
    }
   ],
   "source": [
    "# 새로운 데이터 `sex`를 `human`에 추가해보세요.\n",
    "\n",
    "sex = [\"Female\", \"Male\", \"Female\", \"Female\", \"Male\"]\n",
    "human.loc[\"sex\"] = sex\n",
    "\n",
    "human"
   ]
  },
  {
   "cell_type": "code",
   "execution_count": 119,
   "id": "27ea06da-7917-4491-9a81-b12a293cde44",
   "metadata": {},
   "outputs": [
    {
     "data": {
      "text/html": [
       "<div>\n",
       "<style scoped>\n",
       "    .dataframe tbody tr th:only-of-type {\n",
       "        vertical-align: middle;\n",
       "    }\n",
       "\n",
       "    .dataframe tbody tr th {\n",
       "        vertical-align: top;\n",
       "    }\n",
       "\n",
       "    .dataframe thead th {\n",
       "        text-align: right;\n",
       "    }\n",
       "</style>\n",
       "<table border=\"1\" class=\"dataframe\">\n",
       "  <thead>\n",
       "    <tr style=\"text-align: right;\">\n",
       "      <th></th>\n",
       "      <th>0</th>\n",
       "      <th>1</th>\n",
       "      <th>2</th>\n",
       "      <th>3</th>\n",
       "      <th>4</th>\n",
       "    </tr>\n",
       "  </thead>\n",
       "  <tbody>\n",
       "    <tr>\n",
       "      <th>age</th>\n",
       "      <td>20.0</td>\n",
       "      <td>15.0</td>\n",
       "      <td>30.0</td>\n",
       "      <td>25.0</td>\n",
       "      <td>35.0</td>\n",
       "    </tr>\n",
       "    <tr>\n",
       "      <th>weight</th>\n",
       "      <td>68.5</td>\n",
       "      <td>60.3</td>\n",
       "      <td>53.4</td>\n",
       "      <td>74.1</td>\n",
       "      <td>80.7</td>\n",
       "    </tr>\n",
       "    <tr>\n",
       "      <th>sex</th>\n",
       "      <td>Female</td>\n",
       "      <td>Male</td>\n",
       "      <td>Female</td>\n",
       "      <td>Female</td>\n",
       "      <td>Male</td>\n",
       "    </tr>\n",
       "  </tbody>\n",
       "</table>\n",
       "</div>"
      ],
      "text/plain": [
       "             0     1       2       3     4\n",
       "age       20.0  15.0    30.0    25.0  35.0\n",
       "weight    68.5  60.3    53.4    74.1  80.7\n",
       "sex     Female  Male  Female  Female  Male"
      ]
     },
     "execution_count": 119,
     "metadata": {},
     "output_type": "execute_result"
    }
   ],
   "source": [
    "# `drop()`으로 `human`에서 `height`를 삭제해보세요.\n",
    "\n",
    "human_updated = human.drop([\"height\"], axis=0)\n",
    "human_updated"
   ]
  },
  {
   "cell_type": "code",
   "execution_count": null,
   "id": "ec521518-6c73-40ce-aa41-d1110a28e794",
   "metadata": {},
   "outputs": [],
   "source": []
  },
  {
   "cell_type": "code",
   "execution_count": 127,
   "id": "c6b2a005-abf4-4bf9-aa5a-8004ee7b2da4",
   "metadata": {},
   "outputs": [
    {
     "name": "stdout",
     "output_type": "stream",
     "text": [
      "덧셈     A   B   C\n",
      "0  10  10  10\n",
      "1  10  10  10\n",
      "2  10  10  10\n",
      "뺄셈    A  B  C\n",
      "0 -8 -6 -4\n",
      "1 -2  0  2\n",
      "2  4  6  8\n",
      "곱셈     A   B   C\n",
      "0   9  16  21\n",
      "1  24  25  24\n",
      "2  21  16   9\n",
      "나눗셈           A     B         C\n",
      "0  0.111111  0.25  0.428571\n",
      "1  0.666667  1.00  1.500000\n",
      "2  2.333333  4.00  9.000000\n"
     ]
    }
   ],
   "source": [
    "# Pandas 연산 함수를 써서 행렬 연산을 해보세요.\n",
    "df1 = pd.DataFrame([[1, 2, 3], [4, 5, 6], [7, 8, 9]], columns=[\"A\", \"B\", \"C\"])\n",
    "df2 = pd.DataFrame([[9, 8, 7], [6, 5, 4], [3, 2, 1]], columns=[\"A\", \"B\", \"C\"])\n",
    "\n",
    "result_add = df1.add(df2, fill_value=0)  # 덧셈\n",
    "result_sub = df1.sub(df2, fill_value=0)  # 뺄셈\n",
    "result_mul = df1.mul(df2, fill_value=0)  # 곱셈\n",
    "result_div = df1.div(df2, fill_value=1)  # 나눗셈\n",
    "\n",
    "print(\"덧셈\", result_add)\n",
    "print(\"뺄셈\", result_sub)\n",
    "print(\"곱셈\", result_mul)\n",
    "print(\"나눗셈\", result_div)"
   ]
  },
  {
   "cell_type": "code",
   "execution_count": 131,
   "id": "ffde0919-647d-4823-8829-9224394ccc66",
   "metadata": {
    "scrolled": true
   },
   "outputs": [
    {
     "name": "stdout",
     "output_type": "stream",
     "text": [
      "오름차순\n",
      "      Name  Age  Score\n",
      "2  Charlie   22     95\n",
      "0    Alice   25     88\n",
      "4      Eve   29     90\n",
      "1      Bob   30     75\n",
      "3    David   35     80\n",
      "내림차순\n",
      "      Name  Age  Score\n",
      "3    David   35     80\n",
      "1      Bob   30     75\n",
      "4      Eve   29     90\n",
      "0    Alice   25     88\n",
      "2  Charlie   22     95\n"
     ]
    }
   ],
   "source": [
    "# sort_values()`를 사용해 오름차순 및 내림차순 정렬을 해보세요.\n",
    "\n",
    "data = {\n",
    "    \"Name\": [\"Alice\", \"Bob\", \"Charlie\", \"David\", \"Eve\"],\n",
    "    \"Age\": [25, 30, 22, 35, 29],\n",
    "    \"Score\": [88, 75, 95, 80, 90]\n",
    "}\n",
    "\n",
    "df = pd.DataFrame(data)\n",
    "df_sorted_asc = df.sort_values(by=\"Age\", ascending=True)\n",
    "df_sorted_desc = df.sort_values(by=\"Age\", ascending=False)\n",
    "\n",
    "print(\"오름차순\")\n",
    "print(df_sorted_asc)\n",
    "\n",
    "print(\"내림차순\")\n",
    "print(df_sorted_desc)"
   ]
  },
  {
   "cell_type": "code",
   "execution_count": 135,
   "id": "c4f42b78-7ea4-4457-9b97-a6d931551e31",
   "metadata": {},
   "outputs": [
    {
     "ename": "SyntaxError",
     "evalue": "invalid syntax (2054071031.py, line 1)",
     "output_type": "error",
     "traceback": [
      "\u001b[1;36m  Cell \u001b[1;32mIn[135], line 1\u001b[1;36m\u001b[0m\n\u001b[1;33m    4. `to_csv()`, `read_csv()`를 사용해 데이터프레임을 저장하고 불러와보세요.\u001b[0m\n\u001b[1;37m       ^\u001b[0m\n\u001b[1;31mSyntaxError\u001b[0m\u001b[1;31m:\u001b[0m invalid syntax\n"
     ]
    }
   ],
   "source": [
    "4. `to_csv()`, `read_csv()`를 사용해 데이터프레임을 저장하고 불러와보세요.\n",
    "\n",
    "df.to_csv(\"data.csv\", index=False)\n",
    "df_loaded = pd.read_csv(\"data.csv\")"
   ]
  },
  {
   "cell_type": "code",
   "execution_count": null,
   "id": "d3cecf63-10e5-4ecf-a96e-8fd01a1068aa",
   "metadata": {},
   "outputs": [],
   "source": []
  }
 ],
 "metadata": {
  "kernelspec": {
   "display_name": "Python [conda env:base] *",
   "language": "python",
   "name": "conda-base-py"
  },
  "language_info": {
   "codemirror_mode": {
    "name": "ipython",
    "version": 3
   },
   "file_extension": ".py",
   "mimetype": "text/x-python",
   "name": "python",
   "nbconvert_exporter": "python",
   "pygments_lexer": "ipython3",
   "version": "3.12.7"
  }
 },
 "nbformat": 4,
 "nbformat_minor": 5
}
